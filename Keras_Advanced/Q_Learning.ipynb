{
  "nbformat": 4,
  "nbformat_minor": 0,
  "metadata": {
    "colab": {
      "provenance": [],
      "authorship_tag": "ABX9TyNtwCy/5V3m2Yhf57xg/X4g"
    },
    "kernelspec": {
      "name": "python3",
      "display_name": "Python 3"
    },
    "language_info": {
      "name": "python"
    }
  },
  "cells": [
    {
      "cell_type": "code",
      "execution_count": 1,
      "metadata": {
        "id": "j13_Nt3T1IJU"
      },
      "outputs": [],
      "source": [
        "import os\n",
        "os.environ['TF_ENABLE_ONEDNN_OPTS'] = '0'\n",
        "os.environ['CUDA_VISIBLE_DEVICES'] = '-1'"
      ]
    },
    {
      "cell_type": "code",
      "source": [
        "import sys\n",
        "sys.setrecursionlimit(1500)\n",
        "\n",
        "import gym\n",
        "import numpy as np\n",
        "\n",
        "env = gym.make('CartPole-v1')\n",
        "\n",
        "np.random.seed(42)\n",
        "env.action_space.seed(42)\n",
        "env.observation_space.seed(42)"
      ],
      "metadata": {
        "colab": {
          "base_uri": "https://localhost:8080/"
        },
        "id": "dxTIinBJ1KMf",
        "outputId": "75e64624-4a4f-4671-f734-efd573239c74"
      },
      "execution_count": 2,
      "outputs": [
        {
          "output_type": "stream",
          "name": "stderr",
          "text": [
            "/usr/local/lib/python3.11/dist-packages/gym/core.py:317: DeprecationWarning: \u001b[33mWARN: Initializing wrapper in old step API which returns one bool instead of two. It is recommended to set `new_step_api=True` to use new step API. This will be the default behaviour in future.\u001b[0m\n",
            "  deprecation(\n",
            "/usr/local/lib/python3.11/dist-packages/gym/wrappers/step_api_compatibility.py:39: DeprecationWarning: \u001b[33mWARN: Initializing environment in old step API which returns one bool instead of two. It is recommended to set `new_step_api=True` to use new step API. This will be the default behaviour in future.\u001b[0m\n",
            "  deprecation(\n"
          ]
        },
        {
          "output_type": "execute_result",
          "data": {
            "text/plain": [
              "[42]"
            ]
          },
          "metadata": {},
          "execution_count": 2
        }
      ]
    },
    {
      "cell_type": "code",
      "source": [
        "import warnings\n",
        "warnings.filterwarnings('ignore')\n",
        "\n",
        "def warn(*args, **kwargs):\n",
        "    pass\n",
        "warnings.warn = warn\n",
        "\n",
        "from tensorflow.keras.models import Sequential\n",
        "from tensorflow.keras.layers import Dense, Input\n",
        "from tensorflow.keras.optimizers import Adam\n",
        "import gym\n",
        "\n",
        "def build_model(state_size, action_size):\n",
        "    model = Sequential()\n",
        "    model.add(Input(shape=(state_size,)))  # Use Input layer to specify the input shape\n",
        "    model.add(Dense(24, activation='relu'))\n",
        "    model.add(Dense(24, activation='relu'))\n",
        "    model.add(Dense(action_size, activation='linear'))\n",
        "    model.compile(loss='mse', optimizer=Adam(learning_rate=0.001))\n",
        "    return model\n",
        "\n",
        "env = gym.make('CartPole-v1')\n",
        "state_size = env.observation_space.shape[0]\n",
        "action_size = env.action_space.n\n",
        "model = build_model(state_size, action_size)"
      ],
      "metadata": {
        "id": "sI_fj9ps1NKF"
      },
      "execution_count": 3,
      "outputs": []
    },
    {
      "cell_type": "code",
      "source": [
        "import random\n",
        "import numpy as np\n",
        "from collections import deque\n",
        "import tensorflow as tf\n",
        "\n",
        "epsilon = 1.0\n",
        "epsilon_min = 0.01\n",
        "epsilon_decay = 0.99\n",
        "\n",
        "\n",
        "memory = deque(maxlen=2000)\n",
        "\n",
        "def remember(state, action, reward, next_state, done):\n",
        "    \"\"\"Store experience in memory.\"\"\"\n",
        "    memory.append((state, action, reward, next_state, done))\n",
        "\n",
        "def replay(batch_size=64):\n",
        "    \"\"\"Train the model using a random sample of experiences from memory.\"\"\"\n",
        "    if len(memory) < batch_size:\n",
        "        return\n",
        "\n",
        "    minibatch = random.sample(memory, batch_size)\n",
        "\n",
        "    states = np.vstack([x[0] for x in minibatch])\n",
        "    actions = np.array([x[1] for x in minibatch])\n",
        "    rewards = np.array([x[2] for x in minibatch])\n",
        "    next_states = np.vstack([x[3] for x in minibatch])\n",
        "    dones = np.array([x[4] for x in minibatch])\n",
        "\n",
        "\n",
        "    q_next = model.predict(next_states)\n",
        "    q_target = model.predict(states)\n",
        "\n",
        "    for i in range(batch_size):\n",
        "        target = rewards[i]\n",
        "        if not dones[i]:\n",
        "            target += 0.95 * np.amax(q_next[i])\n",
        "        q_target[i][actions[i]] = target\n",
        "\n",
        "\n",
        "    model.fit(states, q_target, epochs=1, verbose=0)\n",
        "\n",
        "    global epsilon\n",
        "    if epsilon > epsilon_min:\n",
        "        epsilon *= epsilon_decay\n",
        "\n",
        "def act(state):\n",
        "    \"\"\"Choose an action based on the current state and exploration rate.\"\"\"\n",
        "    if np.random.rand() <= epsilon:\n",
        "        return random.randrange(action_size)\n",
        "    act_values = model.predict(state)\n",
        "    return np.argmax(act_values[0])\n",
        "\n",
        "\n",
        "episodes = 10\n",
        "train_frequency = 5\n",
        "\n",
        "for e in range(episodes):\n",
        "    state, _ = env.reset()\n",
        "    state = np.reshape(state, [1, state_size])\n",
        "    for time in range(200):\n",
        "        action = act(state)\n",
        "        next_state, reward, terminated, truncated, _ = env.step(action)\n",
        "        done = terminated or truncated\n",
        "        reward = reward if not done else -10\n",
        "        next_state = np.reshape(next_state, [1, state_size])\n",
        "        remember(state, action, reward, next_state, done)\n",
        "        state = next_state\n",
        "\n",
        "        if done:\n",
        "            print(f\"episode: {e+1}/{episodes}, score: {time}, e: {epsilon:.2}\")\n",
        "            break\n",
        "\n",
        "        if time % train_frequency == 0:\n",
        "            replay(batch_size=64)\n",
        "\n",
        "env.close()"
      ],
      "metadata": {
        "collapsed": true,
        "id": "QDYVVdHu1WDS"
      },
      "execution_count": null,
      "outputs": []
    },
    {
      "cell_type": "code",
      "source": [
        "for e in range(10):\n",
        "\n",
        "    state, _ = env.reset()\n",
        "    state = np.reshape(state, [1, state_size])\n",
        "    for time in range(500):\n",
        "        env.render()\n",
        "        action = np.argmax(model.predict(state)[0])\n",
        "        next_state, reward, terminated, truncated, _ = env.step(action)\n",
        "        done = terminated or truncated\n",
        "        next_state = np.reshape(next_state, [1, state_size])\n",
        "        state = next_state\n",
        "        if done:\n",
        "            print(f\"episode: {e+1}/10, score: {time}\")\n",
        "            break\n",
        "\n",
        "env.close()"
      ],
      "metadata": {
        "id": "CnYv6cMy14DU"
      },
      "execution_count": null,
      "outputs": []
    }
  ]
}