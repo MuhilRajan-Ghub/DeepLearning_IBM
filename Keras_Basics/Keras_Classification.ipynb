{
  "nbformat": 4,
  "nbformat_minor": 0,
  "metadata": {
    "colab": {
      "provenance": [],
      "authorship_tag": "ABX9TyOUQZiBr31yb4eUqbiJSqC+"
    },
    "kernelspec": {
      "name": "python3",
      "display_name": "Python 3"
    },
    "language_info": {
      "name": "python"
    }
  },
  "cells": [
    {
      "cell_type": "code",
      "execution_count": 10,
      "metadata": {
        "id": "fpw4O5dWH74-"
      },
      "outputs": [],
      "source": [
        "import keras\n",
        "from keras.datasets import mnist\n",
        "\n",
        "(X_train, y_train), (X_test, y_test) = mnist.load_data()"
      ]
    },
    {
      "cell_type": "code",
      "source": [
        "import matplotlib.pyplot as plt\n",
        "plt.imshow(X_train[0])"
      ],
      "metadata": {
        "colab": {
          "base_uri": "https://localhost:8080/",
          "height": 448
        },
        "id": "OGPV6BkMIIlJ",
        "outputId": "b33eefde-04cb-4101-ce2b-2652ef9f5505"
      },
      "execution_count": 11,
      "outputs": [
        {
          "output_type": "execute_result",
          "data": {
            "text/plain": [
              "<matplotlib.image.AxesImage at 0x7bc8ea20ae50>"
            ]
          },
          "metadata": {},
          "execution_count": 11
        },
        {
          "output_type": "display_data",
          "data": {
            "text/plain": [
              "<Figure size 640x480 with 1 Axes>"
            ],
            "image/png": "[encoded data removed]"
          },
          "metadata": {}
        }
      ]
    },
    {
      "cell_type": "code",
      "source": [
        "num_pixels = X_train.shape[1] * X_train.shape[2]\n",
        "\n",
        "X_train = X_train.reshape(X_train.shape[0], num_pixels).astype('float32')\n",
        "X_test = X_test.reshape(X_test.shape[0], num_pixels).astype('float32')\n",
        "\n",
        "X_train.shape"
      ],
      "metadata": {
        "colab": {
          "base_uri": "https://localhost:8080/"
        },
        "id": "GRlLW9-FIajF",
        "outputId": "07bf15ee-b143-4657-b175-1d2a68f4cdd1"
      },
      "execution_count": 12,
      "outputs": [
        {
          "output_type": "execute_result",
          "data": {
            "text/plain": [
              "(60000, 784)"
            ]
          },
          "metadata": {},
          "execution_count": 12
        }
      ]
    },
    {
      "cell_type": "code",
      "source": [
        "X_train = X_train / 255\n",
        "X_test = X_test / 255"
      ],
      "metadata": {
        "id": "JNuVuLP1JYcs"
      },
      "execution_count": 13,
      "outputs": []
    },
    {
      "cell_type": "code",
      "source": [
        "y_train = to_categorical(y_train)\n",
        "y_test = to_categorical(y_test)\n",
        "\n",
        "num_classes = y_test.shape[1]\n",
        "print(num_classes)"
      ],
      "metadata": {
        "id": "78xbChgrJgW8",
        "colab": {
          "base_uri": "https://localhost:8080/"
        },
        "outputId": "09aa7e2a-36d4-4987-dd24-c3c8daa3e6c3"
      },
      "execution_count": 14,
      "outputs": [
        {
          "output_type": "stream",
          "name": "stdout",
          "text": [
            "10\n"
          ]
        }
      ]
    },
    {
      "cell_type": "code",
      "source": [
        "from keras.models import Sequential\n",
        "from keras.layers import Dense\n",
        "from keras.layers import Input\n",
        "\n",
        "def classification_model():\n",
        "    model = Sequential()\n",
        "    model.add(Input(shape=(num_pixels,)))\n",
        "    model.add(Dense(num_pixels, activation='relu'))\n",
        "    model.add(Dense(100, activation='relu'))\n",
        "    model.add(Dense(num_classes, activation='softmax'))\n",
        "\n",
        "\n",
        "    model.compile(optimizer='adam', loss='categorical_crossentropy', metrics=['accuracy'])\n",
        "    return model"
      ],
      "metadata": {
        "id": "jLCn5ahLLMAl"
      },
      "execution_count": 20,
      "outputs": []
    },
    {
      "cell_type": "code",
      "source": [
        "model = classification_model()\n",
        "model.fit(X_train, y_train, validation_data=(X_test, y_test), epochs=10, verbose=2)\n",
        "\n",
        "scores = model.evaluate(X_test, y_test, verbose=0)"
      ],
      "metadata": {
        "colab": {
          "base_uri": "https://localhost:8080/"
        },
        "id": "a85zO5EiMAoN",
        "outputId": "7f709d21-7aed-4c8d-d7ef-dd1fc3fc71ac"
      },
      "execution_count": 21,
      "outputs": [
        {
          "output_type": "stream",
          "name": "stdout",
          "text": [
            "Epoch 1/10\n",
            "1875/1875 - 19s - 10ms/step - accuracy: 0.9450 - loss: 0.1822 - val_accuracy: 0.9696 - val_loss: 0.0953\n",
            "Epoch 2/10\n",
            "1875/1875 - 19s - 10ms/step - accuracy: 0.9755 - loss: 0.0797 - val_accuracy: 0.9718 - val_loss: 0.0870\n",
            "Epoch 3/10\n",
            "1875/1875 - 21s - 11ms/step - accuracy: 0.9830 - loss: 0.0538 - val_accuracy: 0.9783 - val_loss: 0.0677\n",
            "Epoch 4/10\n",
            "1875/1875 - 16s - 9ms/step - accuracy: 0.9867 - loss: 0.0408 - val_accuracy: 0.9804 - val_loss: 0.0678\n",
            "Epoch 5/10\n",
            "1875/1875 - 21s - 11ms/step - accuracy: 0.9900 - loss: 0.0315 - val_accuracy: 0.9720 - val_loss: 0.1288\n",
            "Epoch 6/10\n",
            "1875/1875 - 21s - 11ms/step - accuracy: 0.9918 - loss: 0.0257 - val_accuracy: 0.9813 - val_loss: 0.0682\n",
            "Epoch 7/10\n",
            "1875/1875 - 17s - 9ms/step - accuracy: 0.9930 - loss: 0.0210 - val_accuracy: 0.9804 - val_loss: 0.0774\n",
            "Epoch 8/10\n",
            "1875/1875 - 20s - 11ms/step - accuracy: 0.9937 - loss: 0.0192 - val_accuracy: 0.9808 - val_loss: 0.0755\n",
            "Epoch 9/10\n",
            "1875/1875 - 17s - 9ms/step - accuracy: 0.9942 - loss: 0.0183 - val_accuracy: 0.9785 - val_loss: 0.0882\n",
            "Epoch 10/10\n",
            "1875/1875 - 20s - 11ms/step - accuracy: 0.9953 - loss: 0.0144 - val_accuracy: 0.9804 - val_loss: 0.0931\n"
          ]
        }
      ]
    },
    {
      "cell_type": "code",
      "source": [
        "print('Accuracy: {}% \\n Error: {}'.format(scores[1], 1 - scores[1]))"
      ],
      "metadata": {
        "colab": {
          "base_uri": "https://localhost:8080/"
        },
        "id": "3SmSLTfaNDUI",
        "outputId": "fc7169cd-c029-4b99-9521-7b3cf1ae6462"
      },
      "execution_count": 22,
      "outputs": [
        {
          "output_type": "stream",
          "name": "stdout",
          "text": [
            "Accuracy: 0.980400025844574% \n",
            " Error: 0.019599974155426025\n"
          ]
        }
      ]
    },
    {
      "cell_type": "code",
      "source": [
        "print(scores)"
      ],
      "metadata": {
        "colab": {
          "base_uri": "https://localhost:8080/"
        },
        "id": "gcxPHylbNHDb",
        "outputId": "4bb8e2f5-37bb-466a-fddd-c85e57f79c10"
      },
      "execution_count": 23,
      "outputs": [
        {
          "output_type": "stream",
          "name": "stdout",
          "text": [
            "[0.09306243807077408, 0.980400025844574]\n"
          ]
        }
      ]
    },
    {
      "cell_type": "code",
      "source": [
        "model.save('classification_model.keras')"
      ],
      "metadata": {
        "id": "KlVGOCbJNQxe"
      },
      "execution_count": 24,
      "outputs": []
    },
    {
      "cell_type": "code",
      "source": [
        "pretrained_model = keras.saving.load_model('classification_model.keras')"
      ],
      "metadata": {
        "id": "nPAzKWn7NaU-"
      },
      "execution_count": null,
      "outputs": []
    }
  ]
}